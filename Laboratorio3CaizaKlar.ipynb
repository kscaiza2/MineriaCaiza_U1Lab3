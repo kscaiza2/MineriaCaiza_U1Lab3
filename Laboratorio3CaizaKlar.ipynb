{
 "cells": [
  {
   "cell_type": "code",
   "execution_count": 1,
   "id": "206aad17",
   "metadata": {},
   "outputs": [],
   "source": [
    "'''Importamos los modulos necesarios '''\n",
    "%matplotlib notebook\n",
    "from sklearn.linear_model import LinearRegression\n",
    "import pandas as pd\n",
    "import numpy as np\n",
    "import matplotlib.pyplot as plt\n",
    "from scipy import stats\n",
    "from sklearn.model_selection import train_test_split\n",
    "from sklearn import metrics"
   ]
  },
  {
   "cell_type": "code",
   "execution_count": 2,
   "id": "56ca5cfb",
   "metadata": {},
   "outputs": [],
   "source": [
    "'''Se le asigno default_rng con el fin de obtener una nueva instancia\n",
    "de un Generador'''\n",
    "rng = np.random.default_rng()\n",
    "'''Generador aleatorio de datos, enviamos por parametro para que genere\n",
    "un total de 100 datos para X y para Y genera los datos y toma el \n",
    "resultado de la funcion'''\n",
    "x = rng.random(1000)\n",
    "y = 1.6*x + rng.random(1000)"
   ]
  },
  {
   "cell_type": "code",
   "execution_count": 12,
   "id": "e8cdb27b",
   "metadata": {},
   "outputs": [],
   "source": [
    "'''Calcula una regresion lineal mediante minimos cuadrados para dos conjuntos\n",
    "de datos, devuelve la pendiente de la recta de regresion'''\n",
    "slope, intercept, r, p, std_err = stats.linregress(x, y)"
   ]
  }
 ],
 "metadata": {
  "kernelspec": {
   "display_name": "Python 3 (ipykernel)",
   "language": "python",
   "name": "python3"
  },
  "language_info": {
   "codemirror_mode": {
    "name": "ipython",
    "version": 3
   },
   "file_extension": ".py",
   "mimetype": "text/x-python",
   "name": "python",
   "nbconvert_exporter": "python",
   "pygments_lexer": "ipython3",
   "version": "3.9.12"
  }
 },
 "nbformat": 4,
 "nbformat_minor": 5
}
